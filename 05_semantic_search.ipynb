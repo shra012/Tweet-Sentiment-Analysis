{
 "cells": [
  {
   "cell_type": "markdown",
   "id": "b8d3e331",
   "metadata": {},
   "source": [
    "# 05 Semantic Search (Sentence Transformers + FAISS)\n",
    "\n",
    "Builds an embedding index for similar-tweet search for error analysis.\n",
    "\n",
    "**Optional:** requires `sentence-transformers` and `faiss-cpu`. If unavailable, follow the install cell."
   ]
  },
  {
   "cell_type": "code",
   "execution_count": null,
   "id": "69be2bd5",
   "metadata": {},
   "outputs": [],
   "source": [
    "\n",
    "%run ./00_shared_utils.ipynb\n",
    "# %pip install -q sentence-transformers faiss-cpu\n",
    "\n",
    "import pandas as pd, numpy as np, os, json\n",
    "from pathlib import Path\n",
    "\n",
    "DATA_PATH = Path('/mnt/data/Tweets.csv')\n",
    "df = pd.read_csv(DATA_PATH)\n",
    "\n",
    "texts = df['text'].fillna('').tolist()\n",
    "ids = df['textID'].fillna('').tolist() if 'textID' in df.columns else list(range(len(texts)))\n",
    "\n",
    "try:\n",
    "    from sentence_transformers import SentenceTransformer\n",
    "    import faiss\n",
    "    model = SentenceTransformer('all-MiniLM-L6-v2')\n",
    "    embs = model.encode(texts, batch_size=64, show_progress_bar=True, normalize_embeddings=True)\n",
    "    dim = embs.shape[1]\n",
    "    index = faiss.IndexFlatIP(dim)\n",
    "    index.add(embs.astype('float32'))\n",
    "    faiss.write_index(index, 'model_registry/faiss.index')\n",
    "    pd.DataFrame({'id': ids}).to_csv('model_registry/faiss_ids.csv', index=False)\n",
    "    print('FAISS index built and saved.')\n",
    "\n",
    "    q = \"I love this!\"\n",
    "    qv = model.encode([q], normalize_embeddings=True)\n",
    "    D, I = index.search(qv.astype('float32'), 5)\n",
    "    print('Query:', q)\n",
    "    print('Top-5 matches:')\n",
    "    for rank, i in enumerate(I[0]):\n",
    "        print(rank+1, ids[i], texts[i][:120])\n",
    "except Exception as e:\n",
    "    print(\"Semantic search unavailable — install sentence-transformers and faiss-cpu to enable.\\n\", e)"
   ]
  }
 ],
 "metadata": {
  "language_info": {
   "name": "python"
  }
 },
 "nbformat": 4,
 "nbformat_minor": 5
}
