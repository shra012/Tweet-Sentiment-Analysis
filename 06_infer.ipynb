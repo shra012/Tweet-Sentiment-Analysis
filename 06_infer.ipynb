{
 "cells": [
  {
   "cell_type": "markdown",
   "id": "3805d8ba",
   "metadata": {},
   "source": [
    "# 06 — Inference (Batch Scoring)\n",
    "\n",
    "Loads a saved pipeline from `model_registry/` and scores a CSV of new tweets."
   ]
  },
  {
   "cell_type": "code",
   "execution_count": null,
   "id": "ac1d08fa",
   "metadata": {},
   "outputs": [],
   "source": [
    "\n",
    "%run ./00_shared_utils.ipynb\n",
    "import joblib, pandas as pd\n",
    "from pathlib import Path\n",
    "\n",
    "PIPE_PATH = Path('model_registry/logreg_calibrated_pipeline.joblib')\n",
    "DATA_PATH = Path('/mnt/data/Tweets.csv')\n",
    "\n",
    "bundle = joblib.load(PIPE_PATH)\n",
    "feat_pipe = bundle['features']\n",
    "clf = bundle.get('calib', bundle.get('clf'))\n",
    "\n",
    "df_new = pd.read_csv(DATA_PATH)\n",
    "X_new = df_new[['text','selected_text']]\n",
    "Xfe = feat_pipe.transform(X_new)\n",
    "pred = clf.predict(Xfe)\n",
    "proba = clf.predict_proba(Xfe)\n",
    "\n",
    "out = df_new.copy()\n",
    "out['pred'] = pred\n",
    "classes = list(clf.classes_)\n",
    "for j, c in enumerate(classes):\n",
    "    out[f'prob_{c}'] = proba[:, j]\n",
    "\n",
    "out.to_csv('artifacts/scored_output.csv', index=False)\n",
    "out.head()"
   ]
  }
 ],
 "metadata": {
  "language_info": {
   "name": "python"
  }
 },
 "nbformat": 4,
 "nbformat_minor": 5
}
